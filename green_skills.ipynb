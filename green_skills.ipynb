{
  "nbformat": 4,
  "nbformat_minor": 0,
  "metadata": {
    "colab": {
      "provenance": []
    },
    "kernelspec": {
      "name": "python3",
      "display_name": "Python 3"
    },
    "language_info": {
      "name": "python"
    }
  },
  "cells": [
    {
      "cell_type": "code",
      "execution_count": null,
      "metadata": {
        "colab": {
          "base_uri": "https://localhost:8080/"
        },
        "id": "M1mTHyfSF6br",
        "outputId": "201a9733-e65e-423a-ffff-d382234b73c7"
      },
      "outputs": [
        {
          "output_type": "stream",
          "name": "stdout",
          "text": [
            "Enter for shubhamdubey\n",
            "dubey\n"
          ]
        }
      ],
      "source": [
        "shubham = input(\"Enter for shubham\")\n",
        "print(shubham)"
      ]
    },
    {
      "cell_type": "code",
      "source": [
        "choice = input(\"Enter the choice\\n\")\n",
        "a = int(input(\"Enter for digit 1\\n\"))\n",
        "b = int(input(\"Enter for digit 2\\n\"))\n",
        "if choice == \"1\":\n",
        "  c=a+b\n",
        "  print(c)\n",
        "elif choice == \"2\":\n",
        "  c=a-b\n",
        "  print(c)\n",
        "elif choice == \"3\":\n",
        "  c=a*b\n",
        "  print(c)\n",
        "else :\n",
        "  c=a/b\n",
        "  print(c)\n",
        "\n",
        "\n",
        "\n"
      ],
      "metadata": {
        "colab": {
          "base_uri": "https://localhost:8080/"
        },
        "id": "qQsQS-Q_GSLb",
        "outputId": "4b30b299-51cc-4294-954d-e2bd0bec6910"
      },
      "execution_count": null,
      "outputs": [
        {
          "output_type": "stream",
          "name": "stdout",
          "text": [
            "Enter the choice\n",
            "3\n",
            "Enter for digit 1\n",
            "12\n",
            "Enter for digit 2\n",
            "23\n",
            "276\n"
          ]
        }
      ]
    },
    {
      "cell_type": "code",
      "source": [
        "climate_data = [\n",
        "    {\"city\": \"City A\", \"temperature\": 25, \"carbon_footprint\": 500},\n",
        "    {\"city\": \"City B\", \"temperature\": 30, \"carbon_footprint\": 350},\n",
        "    {\"city\": \"City C\", \"temperature\": 22, \"carbon_footprint\": 600},\n",
        "    {\"city\": \"City D\", \"temperature\": 15, \"carbon_footprint\": 200},\n",
        "    {\"city\": \"City E\", \"temperature\": 28, \"carbon_footprint\": 450},\n",
        "]\n",
        "high_temp_threshold = 26\n",
        "high_temp_cities = [city for city in climate_data if city[\"temperature\"]> high_temp_threshold]\n",
        "print(\"cities with high temperature (> 26):\")\n",
        "for city in high_temp_cities:\n",
        "  print(f\"{city['city']} - {city['temperature']}C\")\n",
        "carbon_footprints = [city[\"carbon_footprint\"] for city in climate_data]\n",
        "avg_carbon_footprint = sum(carbon_footprints) / len(carbon_footprints)\n",
        "print(\"Average carbon footprint:\", avg_carbon_footprint)\n",
        "#write a code to write the cityb with hoghest carbon carbon_footprint\n",
        "highest_footprint_city = max(climate_data, key=lambda cityt: city[\"carbon_footprint\"])\n",
        "print(f\"\\nCity with the highest carbon footprint:\")\n",
        "print(f\"{highest_footprint_city['city']} ={highest_footprint_city['carbon_footprint']} kg CO2\")\n",
        "\n",
        "\n",
        "energy_consumption = 1000\n",
        "emission_factor = 0.475\n",
        "carbon_footprint = calculate_carbon_footprint(energy_consumption, emission_factor)\n",
        "print(f\"carbon Footprint: {carbon_footprint} kg CO2\")\n",
        "\n"
      ],
      "metadata": {
        "colab": {
          "base_uri": "https://localhost:8080/",
          "height": 332
        },
        "id": "rjfWGAPlLjg-",
        "outputId": "abc5301c-987a-40d8-b82d-733e2d96509f"
      },
      "execution_count": null,
      "outputs": [
        {
          "output_type": "stream",
          "name": "stdout",
          "text": [
            "cities with high temperature (> 26):\n",
            "City B - 30C\n",
            "City E - 28C\n",
            "Average carbon footprint: 420.0\n",
            "\n",
            "City with the highest carbon footprint:\n",
            "City A =500 kg CO2\n"
          ]
        },
        {
          "output_type": "error",
          "ename": "NameError",
          "evalue": "name 'calculate_carbon_footprint' is not defined",
          "traceback": [
            "\u001b[0;31m---------------------------------------------------------------------------\u001b[0m",
            "\u001b[0;31mNameError\u001b[0m                                 Traceback (most recent call last)",
            "\u001b[0;32m<ipython-input-14-12d265605e20>\u001b[0m in \u001b[0;36m<cell line: 24>\u001b[0;34m()\u001b[0m\n\u001b[1;32m     22\u001b[0m \u001b[0menergy_consumption\u001b[0m \u001b[0;34m=\u001b[0m \u001b[0;36m1000\u001b[0m\u001b[0;34m\u001b[0m\u001b[0;34m\u001b[0m\u001b[0m\n\u001b[1;32m     23\u001b[0m \u001b[0memission_factor\u001b[0m \u001b[0;34m=\u001b[0m \u001b[0;36m0.475\u001b[0m\u001b[0;34m\u001b[0m\u001b[0;34m\u001b[0m\u001b[0m\n\u001b[0;32m---> 24\u001b[0;31m \u001b[0mcarbon_footprint\u001b[0m \u001b[0;34m=\u001b[0m \u001b[0mcalculate_carbon_footprint\u001b[0m\u001b[0;34m(\u001b[0m\u001b[0menergy_consumption\u001b[0m\u001b[0;34m,\u001b[0m \u001b[0memission_factor\u001b[0m\u001b[0;34m)\u001b[0m\u001b[0;34m\u001b[0m\u001b[0;34m\u001b[0m\u001b[0m\n\u001b[0m\u001b[1;32m     25\u001b[0m \u001b[0mprint\u001b[0m\u001b[0;34m(\u001b[0m\u001b[0;34mf\"carbon Footprint: {carbon_footprint} kg CO2\"\u001b[0m\u001b[0;34m)\u001b[0m\u001b[0;34m\u001b[0m\u001b[0;34m\u001b[0m\u001b[0m\n\u001b[1;32m     26\u001b[0m \u001b[0;34m\u001b[0m\u001b[0m\n",
            "\u001b[0;31mNameError\u001b[0m: name 'calculate_carbon_footprint' is not defined"
          ]
        }
      ]
    },
    {
      "cell_type": "code",
      "source": [
        "leap_year = lambda year: (year % 4 == 0) and (year % 100 != 0 or year % 400 == 0)\n",
        "year=int(input(\"Enter The year You Want To Check For Leap Year\\n\"))\n",
        "print(leap_year(year))\n"
      ],
      "metadata": {
        "colab": {
          "base_uri": "https://localhost:8080/"
        },
        "id": "7JdwqnT34dtQ",
        "outputId": "a4371165-b00b-46c8-c280-fcaa2903411b"
      },
      "execution_count": null,
      "outputs": [
        {
          "output_type": "stream",
          "name": "stdout",
          "text": [
            "Enter The year You Want To Check For Leap Year\n",
            "2003\n",
            "False\n"
          ]
        }
      ]
    },
    {
      "cell_type": "code",
      "source": [
        "import pandas as pd\n",
        "renewable_sources = [\"Solar\",\"Wind\",\"Hydropower\",\"Geothermal\",\"Biomass\"]\n",
        "data = {\n",
        "    \"Project\": [\"Solar Farm A\", \"Wind Turbine X\", \"Hydropower Y\", \"Solar Roof Z\", \"Geothermal Plant P\"],\n",
        "    \"Technology\": [\"Solar\", \"Wind\", \"Hydropower\", \"Solar\", \"Geothermal\"],\n",
        "    \"Capacity (MW)\": [150, 300, 200, 50, 100],  # Megawatts\n",
        "    \"Cost (Million $)\": [200, 400, 350, 100, 250],  # Project cost\n",
        "    \"Location\": [\"California\", \"Texas\", \"Washington\", \"Nevada\", \"Idaho\"],\n",
        "    \"Completion Year\": [2023, 2024, 2022, 2025, 2023]\n",
        "}\n",
        "renewable_series = pd.Series(renewable_sources)\n",
        "print(\"Renewable Energy Sources:\")\n",
        "print(renewable_series)\n",
        "projects_df = pd.DataFrame(data)\n",
        "#projects_df.head()\n",
        "#projects_df.describe()\n"
      ],
      "metadata": {
        "colab": {
          "base_uri": "https://localhost:8080/"
        },
        "id": "8CSij4pLLk5C",
        "outputId": "91a626c9-db91-45ad-c58c-ac4361d99cb8"
      },
      "execution_count": null,
      "outputs": [
        {
          "output_type": "stream",
          "name": "stdout",
          "text": [
            "Renewable Energy Sources:\n",
            "0         Solar\n",
            "1          Wind\n",
            "2    Hydropower\n",
            "3    Geothermal\n",
            "4       Biomass\n",
            "dtype: object\n"
          ]
        }
      ]
    },
    {
      "cell_type": "code",
      "source": [
        "import pandas as pd\n",
        "\n",
        "# Create DataFrame\n",
        "projects_df = pd.DataFrame(data)\n",
        "\n",
        "# Filter projects with capacity > 100 MW\n",
        "high_capacity_projects = projects_df[projects_df['Capacity (MW)'] > 100]\n",
        "\n",
        "# Display the result\n",
        "print(high_capacity_projects)\n",
        "\n",
        "#total_capacity = projects_df[\"Capacity (MW)\"].sum()\n",
        "#total_cost = projects_df[\"Cost of s\"]\n",
        "grouped_data = projects_df.groupby(\"Technology\")[\"Capacity (MW)\"].sum()\n",
        "print(\"\\nTotal Capacity by Technology:\")\n",
        "print(grouped_data)\n"
      ],
      "metadata": {
        "colab": {
          "base_uri": "https://localhost:8080/"
        },
        "id": "Y2Ej287Kbli_",
        "outputId": "6c05e6aa-cdd0-4962-df29-f98b08b52d00"
      },
      "execution_count": null,
      "outputs": [
        {
          "output_type": "stream",
          "name": "stdout",
          "text": [
            "          Project  Technology  Capacity (MW)  Cost (Million $)    Location  \\\n",
            "0    Solar Farm A       Solar            150               200  California   \n",
            "1  Wind Turbine X        Wind            300               400       Texas   \n",
            "2    Hydropower Y  Hydropower            200               350  Washington   \n",
            "\n",
            "   Completion Year  \n",
            "0             2023  \n",
            "1             2024  \n",
            "2             2022  \n",
            "\n",
            "Total Capacity by Technology:\n",
            "Technology\n",
            "Geothermal    100\n",
            "Hydropower    200\n",
            "Solar         200\n",
            "Wind          300\n",
            "Name: Capacity (MW), dtype: int64\n"
          ]
        }
      ]
    },
    {
      "cell_type": "code",
      "source": [
        "import numpy as np\n",
        "one_d_array = np.array([1,2,3])\n",
        "print(one_d_array)"
      ],
      "metadata": {
        "colab": {
          "base_uri": "https://localhost:8080/"
        },
        "id": "Var0ChZYSZ0k",
        "outputId": "54b5458a-56b3-4cc8-e29c-43501b32e6d5"
      },
      "execution_count": null,
      "outputs": [
        {
          "output_type": "stream",
          "name": "stdout",
          "text": [
            "[1 2 3]\n"
          ]
        }
      ]
    },
    {
      "cell_type": "code",
      "source": [
        "one_d_array = np.array([[1,2,3],[5,8,9]])\n",
        "print(one_d_array)\n",
        "#one_d_array.shape\n",
        "#one_d_array.ndim\n",
        "#one_d_array.size\n",
        "#one_d_array.dtype\n",
        "one_d_array.itemsize\n",
        "\n"
      ],
      "metadata": {
        "colab": {
          "base_uri": "https://localhost:8080/"
        },
        "id": "fOsmc_fbzhFd",
        "outputId": "95e02f4a-fec5-4e9a-e4b3-bb80ebb4bc86"
      },
      "execution_count": null,
      "outputs": [
        {
          "output_type": "stream",
          "name": "stdout",
          "text": [
            "[[1 2 3]\n",
            " [5 8 9]]\n"
          ]
        },
        {
          "output_type": "execute_result",
          "data": {
            "text/plain": [
              "8"
            ]
          },
          "metadata": {},
          "execution_count": 28
        }
      ]
    },
    {
      "cell_type": "code",
      "source": [
        "np.ones(3)\n",
        "np.zeros(3)\n",
        "np.random.random(3)\n",
        "array = np.full((3,3),5)\n",
        "print(array)\n",
        "iarray = np.identity(5)\n",
        "print(iarray)\n"
      ],
      "metadata": {
        "colab": {
          "base_uri": "https://localhost:8080/"
        },
        "id": "WkB6_wE-19xA",
        "outputId": "39884206-2a24-4732-e6cf-0036df75eb5c"
      },
      "execution_count": null,
      "outputs": [
        {
          "output_type": "stream",
          "name": "stdout",
          "text": [
            "[[5 5 5]\n",
            " [5 5 5]\n",
            " [5 5 5]]\n",
            "[[1. 0. 0. 0. 0.]\n",
            " [0. 1. 0. 0. 0.]\n",
            " [0. 0. 1. 0. 0.]\n",
            " [0. 0. 0. 1. 0.]\n",
            " [0. 0. 0. 0. 1.]]\n"
          ]
        }
      ]
    },
    {
      "cell_type": "code",
      "source": [
        "linspace=np.linspace(5,10,5)\n",
        "print(linspace)"
      ],
      "metadata": {
        "colab": {
          "base_uri": "https://localhost:8080/"
        },
        "id": "zPBqHwHP3qFJ",
        "outputId": "633c5042-9fc0-4ebb-ccb2-e8b42f73cfa3"
      },
      "execution_count": null,
      "outputs": [
        {
          "output_type": "stream",
          "name": "stdout",
          "text": [
            "[ 5.    6.25  7.5   8.75 10.  ]\n"
          ]
        }
      ]
    },
    {
      "cell_type": "code",
      "source": [
        "num=np.array([11,22,33,44,55,66,77,88,99])\n",
        "print(num[:])\n",
        "print(num[:1])\n",
        "print(num[:2])\n",
        "print(num[:-1])\n"
      ],
      "metadata": {
        "colab": {
          "base_uri": "https://localhost:8080/"
        },
        "id": "ripWzxO64xF2",
        "outputId": "4793cb94-32f3-46c5-ecdd-70bdf5ac0442"
      },
      "execution_count": null,
      "outputs": [
        {
          "output_type": "stream",
          "name": "stdout",
          "text": [
            "[11 22 33 44 55 66 77 88 99]\n",
            "[11]\n",
            "[11 22]\n",
            "[11 22 33 44 55 66 77 88]\n"
          ]
        }
      ]
    },
    {
      "cell_type": "code",
      "source": [
        "str1 = str(input(\"Enter the String\\n\"))\n",
        "rev = str1[::-1]\n",
        "if(rev==str1):\n",
        "  print(\"Entered String is palindrome\")\n",
        "else:\n",
        "  print(\"String is bakwas\")"
      ],
      "metadata": {
        "colab": {
          "base_uri": "https://localhost:8080/"
        },
        "id": "XwhFfMiq5Yg4",
        "outputId": "86f2d878-e988-4ed3-f832-6c1e49484d0e"
      },
      "execution_count": null,
      "outputs": [
        {
          "output_type": "stream",
          "name": "stdout",
          "text": [
            "Enter the String\n",
            "renuka\n",
            "String is bakwas\n"
          ]
        }
      ]
    },
    {
      "cell_type": "code",
      "source": [
        "ar1 = np.array([[1,2,3],[4,6,9]])\n",
        "print(ar1.flatten('f'))"
      ],
      "metadata": {
        "colab": {
          "base_uri": "https://localhost:8080/"
        },
        "id": "iv2DilxU7Ilh",
        "outputId": "fd1a4b65-c01b-4588-ba6c-8557cff09d56"
      },
      "execution_count": null,
      "outputs": [
        {
          "output_type": "stream",
          "name": "stdout",
          "text": [
            "[1 4 2 6 3 9]\n"
          ]
        }
      ]
    },
    {
      "cell_type": "code",
      "source": [
        "energy = np.array([1200,3400,2900,1800,2500])\n",
        "print(energy)\n",
        "np.mean(energy)\n",
        "print(np.std(energy))"
      ],
      "metadata": {
        "colab": {
          "base_uri": "https://localhost:8080/"
        },
        "id": "lbI3cto09qfr",
        "outputId": "f89606dc-cef7-431d-c61f-a2f7ee94cd5b"
      },
      "execution_count": null,
      "outputs": [
        {
          "output_type": "stream",
          "name": "stdout",
          "text": [
            "[1200 3400 2900 1800 2500]\n",
            "781.2809993849844\n"
          ]
        }
      ]
    },
    {
      "cell_type": "code",
      "source": [
        "data = {\n",
        "    \"Energy Source\": [\"Solar\", \"Wind\", \"Hydropower\", \"Geothermal\", \"Biomass\", \"Nuclear\"],\n",
        "    \"Energy Consumption (MWh)\": [1200, np.nan, 2900, np.nan, 2500, 3200],\n",
        "    \"Cost (Million $)\": [200, 400, np.nan, 150, 250, np.nan]\n",
        "}\n"
      ],
      "metadata": {
        "id": "PBUN2Onf_BT7"
      },
      "execution_count": null,
      "outputs": []
    }
  ]
}